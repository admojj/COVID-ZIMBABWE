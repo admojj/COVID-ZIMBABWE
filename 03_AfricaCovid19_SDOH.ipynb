{
 "cells": [
  {
   "cell_type": "markdown",
   "metadata": {},
   "source": [
    "# This notebook shows trends for some of the Social Determinants of Health for Africa before Covid-19 : The Causes of the Causes!!"
   ]
  },
  {
   "cell_type": "markdown",
   "metadata": {},
   "source": [
    "# We will look at GDP data first"
   ]
  },
  {
   "cell_type": "code",
   "execution_count": null,
   "metadata": {},
   "outputs": [],
   "source": [
    "#import pandas \n",
    "import pandas as pd\n",
    "#read the pickled gdp dataframe\n",
    "gdpdf = pd.read_pickle('Data/Africa/gdpdf_pickle.pkl')\n",
    "gdpdf"
   ]
  },
  {
   "cell_type": "code",
   "execution_count": null,
   "metadata": {},
   "outputs": [],
   "source": [
    "#rename the column headings\n",
    "gdpdf.columns = ['CNTRY_NAME', 'Country Code', 'year', 'GDP']"
   ]
  },
  {
   "cell_type": "code",
   "execution_count": null,
   "metadata": {},
   "outputs": [],
   "source": [
    "#pickle population dataframe\n",
    "pdf= pd.read_pickle('Data/pdf_pickle.pkl')\n",
    "pdf"
   ]
  },
  {
   "cell_type": "code",
   "execution_count": null,
   "metadata": {},
   "outputs": [],
   "source": [
    "pdf.columns = ['FIPS', 'CNTRY_NAME', 'Type', 'Year', 'Pop_Mil']"
   ]
  },
  {
   "cell_type": "code",
   "execution_count": null,
   "metadata": {},
   "outputs": [],
   "source": [
    "gdppopdf = pdf.merge(gdpdf, on='CNTRY_NAME')"
   ]
  },
  {
   "cell_type": "markdown",
   "metadata": {},
   "source": [
    "# GDP Per Capita Trends in Africa 2015-2018"
   ]
  },
  {
   "cell_type": "code",
   "execution_count": null,
   "metadata": {},
   "outputs": [],
   "source": [
    "#using plotly\n",
    "import plotly.express as px\n",
    "\n",
    "fig = px.line(gdppopdf, x=\"year\", y=\"GDP\", color='CNTRY_NAME', title='GDP Per Capita Trends 2015-2018 in Africa')\n",
    "fig.show()"
   ]
  },
  {
   "cell_type": "code",
   "execution_count": null,
   "metadata": {},
   "outputs": [],
   "source": [
    "# First we will import the geojson data\n",
    "import json\n",
    "with open('Data/Africa_World_PROD_1_Lsib_2017_Mar.geojson') as f:\n",
    "  countries = json.load(f)"
   ]
  },
  {
   "cell_type": "code",
   "execution_count": null,
   "metadata": {},
   "outputs": [],
   "source": [
    "import plotly.express as px\n",
    "from plotly.offline import download_plotlyjs, init_notebook_mode, plot, iplot\n",
    "init_notebook_mode(connected=True)\n",
    "\n",
    "max_gdp = gdppopdf['GDP'].max()\n",
    "fig = px.choropleth_mapbox(gdppopdf, geojson=countries, \\\n",
    "              color=\"GDP\", hover_name=\"CNTRY_NAME\", \\\n",
    "              featureidkey=\"properties.CNTRY_NAME\", locations=\"CNTRY_NAME\",\\\n",
    "              animation_frame=\"year\",\n",
    "              color_continuous_scale=px.colors.sequential.OrRd, \\\n",
    "              range_color=[0,max_gdp])\n",
    "fig.update_layout(\n",
    "    #margin={\"r\":0,\"t\":0,\"l\":0,\"b\":0},\n",
    "    autosize=True,\n",
    "    height=770,\n",
    "    mapbox = {\n",
    "        'style': \"carto-positron\",\n",
    "        'center': {'lon': 32, 'lat': 1},\n",
    "        'zoom': 2\n",
    "    },\n",
    "    title={\n",
    "        'text': \"Africa GDP Per Capita 2015-2018\",\n",
    "        'y':0.97,\n",
    "        'x':0.45,\n",
    "        'xanchor': 'center',\n",
    "        'yanchor': 'top'})\n",
    "\n",
    "fig.show()"
   ]
  },
  {
   "cell_type": "markdown",
   "metadata": {},
   "source": [
    "# Plot Bubble Chart : Confirmed Cases and Deaths Versus GPD"
   ]
  },
  {
   "cell_type": "code",
   "execution_count": null,
   "metadata": {},
   "outputs": [],
   "source": [
    "gdppopdf"
   ]
  },
  {
   "cell_type": "code",
   "execution_count": null,
   "metadata": {},
   "outputs": [],
   "source": [
    "# select GDP for 2018 only\n",
    "gdppopdf1 = gdppopdf[(gdppopdf.year == \"2018\")]"
   ]
  },
  {
   "cell_type": "code",
   "execution_count": null,
   "metadata": {},
   "outputs": [],
   "source": [
    "# read cases dataframe\n",
    "gdf4 = pd.read_pickle('Data/Africa/gdf4_pickle.pkl')\n",
    "gdf4"
   ]
  },
  {
   "cell_type": "code",
   "execution_count": null,
   "metadata": {},
   "outputs": [],
   "source": [
    "#merge GDP and cases dataframes to create composite dataframe\n",
    "composite_df = gdf4.merge(gdppopdf1, on='CNTRY_NAME')"
   ]
  },
  {
   "cell_type": "code",
   "execution_count": null,
   "metadata": {
    "scrolled": false
   },
   "outputs": [],
   "source": [
    "composite_df"
   ]
  },
  {
   "cell_type": "code",
   "execution_count": null,
   "metadata": {},
   "outputs": [],
   "source": [
    "composite_df['Cases_100K'] = composite_df['Confirmed'] / composite_df['Pop_Mil'] * 100000\n",
    "composite_df['Deaths_100K'] = composite_df['Deaths'] / composite_df['Pop_Mil'] * 100000\n",
    "composite_df"
   ]
  },
  {
   "cell_type": "code",
   "execution_count": null,
   "metadata": {},
   "outputs": [],
   "source": [
    "import plotly.express as px\n",
    "composite_df\n",
    "\n",
    "fig = px.scatter(composite_df, x=\"Cases_100K\", y=\"GDP\",\n",
    "             size=\"Deaths_100K\", color=\"Country_Region\",\n",
    "                 hover_name=\"Country_Region\", title='Covid Cases/100k and Deaths VS GDP Per Capita', log_x=False, size_max=60)\n",
    "fig.show()"
   ]
  },
  {
   "cell_type": "markdown",
   "metadata": {},
   "source": [
    "# Next we look at Education.The next Visualization shows the rates of completion of primary education"
   ]
  },
  {
   "cell_type": "code",
   "execution_count": null,
   "metadata": {},
   "outputs": [],
   "source": [
    "#read the pickled education dataframe\n",
    "edudf = pd.read_pickle('Data/Africa/edudf_pickle.pkl')\n",
    "edudf"
   ]
  },
  {
   "cell_type": "code",
   "execution_count": null,
   "metadata": {},
   "outputs": [],
   "source": [
    "edudf.columns = ['CNTRY_NAME', 'Country Code', 'year', 'edu_rate']"
   ]
  },
  {
   "cell_type": "code",
   "execution_count": null,
   "metadata": {},
   "outputs": [],
   "source": [
    "edupopdf = edudf.merge(pdf, on= 'CNTRY_NAME')"
   ]
  },
  {
   "cell_type": "code",
   "execution_count": null,
   "metadata": {},
   "outputs": [],
   "source": [
    "#using plotly\n",
    "import plotly.express as px\n",
    "\n",
    "fig = px.line(edupopdf, x=\"year\", y=\"edu_rate\", color='CNTRY_NAME', title='Africa Trends of Primary Education Completion')\n",
    "fig.show()"
   ]
  },
  {
   "cell_type": "code",
   "execution_count": null,
   "metadata": {},
   "outputs": [],
   "source": [
    "#select education rates data for 2016 only\n",
    "edupopdf1 = edupopdf[(edupopdf.year == \"2016\")]"
   ]
  },
  {
   "cell_type": "code",
   "execution_count": null,
   "metadata": {},
   "outputs": [],
   "source": [
    "#create second composite dataframe for education rates and confirmed cases\n",
    "composite_df2 = edupopdf1.merge(gdf4, on='CNTRY_NAME')"
   ]
  },
  {
   "cell_type": "code",
   "execution_count": null,
   "metadata": {},
   "outputs": [],
   "source": [
    "# calculate incidence\n",
    "composite_df2['Cases_100K'] = composite_df2['Confirmed'] / composite_df2['Pop_Mil'] * 100000\n",
    "composite_df2['Deaths_100K'] = composite_df2['Deaths'] / composite_df2['Pop_Mil'] * 100000"
   ]
  },
  {
   "cell_type": "code",
   "execution_count": null,
   "metadata": {},
   "outputs": [],
   "source": [
    "import plotly.express as px\n",
    "composite_df2\n",
    "\n",
    "fig = px.scatter(composite_df2, x=\"Cases_100K\", y=\"edu_rate\",\n",
    "             size=\"Deaths_100K\", color=\"Country_Region\",\n",
    "                 hover_name=\"Country_Region\", log_x=False, size_max=60, title=\"Coronavirus Cases_100K and Deaths vs Education in Africa\")\n",
    "\n",
    "fig.show()"
   ]
  },
  {
   "cell_type": "markdown",
   "metadata": {},
   "source": [
    "# We will now look at employment rates in Africa before Covid-19"
   ]
  },
  {
   "cell_type": "code",
   "execution_count": null,
   "metadata": {},
   "outputs": [],
   "source": [
    "# read the pickled education dataframe\n",
    "empdf = pd.read_pickle('Data/Africa/empdf_pickle.pkl')\n",
    "empdf"
   ]
  },
  {
   "cell_type": "code",
   "execution_count": null,
   "metadata": {},
   "outputs": [],
   "source": [
    "empdf.columns = ['CNTRY_NAME', 'Country Code', 'year', 'emp_rate']"
   ]
  },
  {
   "cell_type": "code",
   "execution_count": null,
   "metadata": {},
   "outputs": [],
   "source": [
    "emppopdf = empdf.merge(pdf, on = 'CNTRY_NAME')"
   ]
  },
  {
   "cell_type": "code",
   "execution_count": null,
   "metadata": {},
   "outputs": [],
   "source": [
    "#using plotly\n",
    "import plotly.express as px\n",
    "\n",
    "fig = px.line(emppopdf, x=\"year\", y=\"emp_rate\", color='CNTRY_NAME', title='Africa Employement Trends 2017-2019')\n",
    "fig.show()"
   ]
  },
  {
   "cell_type": "code",
   "execution_count": null,
   "metadata": {},
   "outputs": [],
   "source": [
    "import plotly.express as px\n",
    "from plotly.offline import download_plotlyjs, init_notebook_mode, plot, iplot\n",
    "init_notebook_mode(connected=True)\n",
    "\n",
    "max_gdp = emppopdf['emp_rate'].max()\n",
    "fig = px.choropleth_mapbox(emppopdf, geojson=countries, \\\n",
    "              color=\"emp_rate\", hover_name=\"CNTRY_NAME\", \\\n",
    "              featureidkey=\"properties.CNTRY_NAME\", locations=\"CNTRY_NAME\",\\\n",
    "              animation_frame=\"year\",\n",
    "              color_continuous_scale=px.colors.sequential.OrRd, \\\n",
    "              range_color=[0,max_gdp])\n",
    "fig.update_layout(\n",
    "    #margin={\"r\":0,\"t\":0,\"l\":0,\"b\":0},\n",
    "    autosize=True,\n",
    "    height=770,\n",
    "    mapbox = {\n",
    "        'style': \"carto-positron\",\n",
    "        'center': {'lon': 32, 'lat': 1},\n",
    "        'zoom': 2\n",
    "    },\n",
    "    title={\n",
    "        'text': \"Africa employment rates \",\n",
    "        'y':0.97,\n",
    "        'x':0.45,\n",
    "        'xanchor': 'center',\n",
    "        'yanchor': 'top'})\n",
    "\n",
    "fig.show()"
   ]
  },
  {
   "cell_type": "code",
   "execution_count": null,
   "metadata": {},
   "outputs": [],
   "source": [
    "# Select employment data for 2018 only\n",
    "emppopdf1 = emppopdf[(emppopdf.year == \"2018\")]"
   ]
  },
  {
   "cell_type": "code",
   "execution_count": null,
   "metadata": {},
   "outputs": [],
   "source": [
    "#create third composite dataframe for employment rates and cases\n",
    "composite_df1 = emppopdf1.merge(gdf4, on='CNTRY_NAME')\n",
    "composite_df1"
   ]
  },
  {
   "cell_type": "code",
   "execution_count": null,
   "metadata": {},
   "outputs": [],
   "source": [
    "#calculate incidence\n",
    "composite_df1['Cases_100K'] = composite_df1['Confirmed'] / composite_df1['Pop_Mil'] * 100000\n",
    "composite_df1['Deaths_100K'] = composite_df1['Deaths'] / composite_df1['Pop_Mil'] * 100000"
   ]
  },
  {
   "cell_type": "code",
   "execution_count": null,
   "metadata": {},
   "outputs": [],
   "source": [
    "import plotly.express as px\n",
    "composite_df1\n",
    "\n",
    "fig = px.scatter(composite_df1, x=\"Cases_100K\", y=\"emp_rate\",\n",
    "             size=\"Deaths_100K\", color=\"Country_Region\",\n",
    "                 hover_name=\"Country_Region\", title='Confirmed Cases and Deaths VS employment rates', log_x=False, size_max=60)\n",
    "fig.show()"
   ]
  },
  {
   "cell_type": "code",
   "execution_count": null,
   "metadata": {},
   "outputs": [],
   "source": []
  }
 ],
 "metadata": {
  "kernelspec": {
   "display_name": "Python 3",
   "language": "python",
   "name": "python3"
  },
  "language_info": {
   "codemirror_mode": {
    "name": "ipython",
    "version": 3
   },
   "file_extension": ".py",
   "mimetype": "text/x-python",
   "name": "python",
   "nbconvert_exporter": "python",
   "pygments_lexer": "ipython3",
   "version": "3.7.6"
  }
 },
 "nbformat": 4,
 "nbformat_minor": 4
}
